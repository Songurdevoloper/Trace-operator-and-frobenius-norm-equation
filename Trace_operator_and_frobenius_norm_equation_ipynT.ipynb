{
  "nbformat": 4,
  "nbformat_minor": 0,
  "metadata": {
    "colab": {
      "name": "Trace-operator-and-frobenius-norm-equation.ipynT",
      "provenance": [],
      "authorship_tag": "ABX9TyO1VrxZWjcPhOog9pvAT+LN",
      "include_colab_link": true
    },
    "kernelspec": {
      "name": "python3",
      "display_name": "Python 3"
    },
    "language_info": {
      "name": "python"
    }
  },
  "cells": [
    {
      "cell_type": "markdown",
      "metadata": {
        "id": "view-in-github",
        "colab_type": "text"
      },
      "source": [
        "<a href=\"https://colab.research.google.com/github/Songurdevoloper/Trace-operator-and-frobenius-norm-equation/blob/main/Trace_operator_and_frobenius_norm_equation_ipynT.ipynb\" target=\"_parent\"><img src=\"https://colab.research.google.com/assets/colab-badge.svg\" alt=\"Open In Colab\"/></a>"
      ]
    },
    {
      "cell_type": "markdown",
      "metadata": {
        "id": "2HlFI4JHtWEz"
      },
      "source": [
        "### The Trace Operator"
      ]
    },
    {
      "cell_type": "markdown",
      "metadata": {
        "id": "gPcUBBoxtrwC"
      },
      "source": [
        "Denoted as **Tr(A)**. Simply the sum of the diagonal elements of a matrix:"
      ]
    },
    {
      "cell_type": "code",
      "metadata": {
        "id": "sjHkBX48uKu0"
      },
      "source": [
        "import numpy as np\n",
        "import torch\n",
        "import tensorflow as tf"
      ],
      "execution_count": 2,
      "outputs": []
    },
    {
      "cell_type": "code",
      "metadata": {
        "colab": {
          "base_uri": "https://localhost:8080/"
        },
        "id": "EAnAPPkHuEj1",
        "outputId": "5f75982c-58fb-46ef-d683-ffaf17c52373"
      },
      "source": [
        "A = np.array([[35, 8], [26, 11]])\n",
        "A"
      ],
      "execution_count": 4,
      "outputs": [
        {
          "output_type": "execute_result",
          "data": {
            "text/plain": [
              "array([[35,  8],\n",
              "       [26, 11]])"
            ]
          },
          "metadata": {},
          "execution_count": 4
        }
      ]
    },
    {
      "cell_type": "code",
      "metadata": {
        "colab": {
          "base_uri": "https://localhost:8080/"
        },
        "id": "_rHggmrrunLr",
        "outputId": "dfc25be4-66be-40f0-b8e2-f082f2d76a63"
      },
      "source": [
        "np.trace(A) # 35 + 11 (sum of the diagonal elements)"
      ],
      "execution_count": 6,
      "outputs": [
        {
          "output_type": "execute_result",
          "data": {
            "text/plain": [
              "46"
            ]
          },
          "metadata": {},
          "execution_count": 6
        }
      ]
    },
    {
      "cell_type": "markdown",
      "metadata": {
        "id": "wJ-KHdqAu2u2"
      },
      "source": [
        "The trace operator has a number of useful properties that come in handy while rearranging linear algebra equations, e.g.:\n",
        "\n",
        "- Tr(A) = Tr(A<sup>T</sup>)\n",
        "- Assuming the matrix shapes line up: Tr(ABC) = Tr(CBA) = Tr(BCA)\n",
        "\n",
        "In particular, the trace operator can provide a convenient way to calculate a matrix's Frobenius norm: \n",
        "**‖A‖<sub>F</sub> = √Tr(AA<sup>T</sup>)**"
      ]
    },
    {
      "cell_type": "markdown",
      "metadata": {
        "id": "WoIWWD6CvVl7"
      },
      "source": [
        "**Exercises**\n",
        "\n",
        "With the matrix `A_p` provided below:\n",
        "\n",
        "1st\n",
        "- Use the PyTorch trace method to calculate the trace of `A_pt`\n",
        "- Use the PyTorch Frobenius norm method and the trace method to demonstrate that \n",
        "\n",
        "2st\n",
        "- Use the TensorFlow trace method to calculate the trace of `A_tf`\n",
        "- Use the TensorFlow Frobenius norm method and the trace method to demonstrate that \n",
        "\n",
        "<h3>‖A‖<sub>F</sub> = √Tr(AA<sup>T</sup>)</h3>"
      ]
    },
    {
      "cell_type": "markdown",
      "metadata": {
        "id": "5H6CS2hxviOD"
      },
      "source": [
        "**PyTorch**"
      ]
    },
    {
      "cell_type": "code",
      "metadata": {
        "colab": {
          "base_uri": "https://localhost:8080/"
        },
        "id": "L49m3HHmwCcg",
        "outputId": "f1729862-5cbd-4d88-b67c-57b1d7641787"
      },
      "source": [
        "A_pt = torch.tensor([[12, 24], [-3, 7], [9, -2.]])\n",
        "A_pt"
      ],
      "execution_count": 13,
      "outputs": [
        {
          "output_type": "execute_result",
          "data": {
            "text/plain": [
              "tensor([[12., 24.],\n",
              "        [-3.,  7.],\n",
              "        [ 9., -2.]])"
            ]
          },
          "metadata": {},
          "execution_count": 13
        }
      ]
    },
    {
      "cell_type": "markdown",
      "metadata": {
        "id": "5dkApbCMwSlM"
      },
      "source": [
        "Use Frobenius norm to calculate our matrix `A_pt`"
      ]
    },
    {
      "cell_type": "code",
      "metadata": {
        "colab": {
          "base_uri": "https://localhost:8080/"
        },
        "id": "Kx6Dawbhwf3V",
        "outputId": "114e44a4-9c3a-459c-d1c6-83080273d7eb"
      },
      "source": [
        "A_pt_frob_norm = torch.frobenius_norm(A_pt)\n",
        "A_pt_frob_norm"
      ],
      "execution_count": 15,
      "outputs": [
        {
          "output_type": "execute_result",
          "data": {
            "text/plain": [
              "tensor(29.3769)"
            ]
          },
          "metadata": {},
          "execution_count": 15
        }
      ]
    },
    {
      "cell_type": "markdown",
      "metadata": {
        "id": "dYYB1e1NwxaR"
      },
      "source": [
        "Use trace method the calculate our matrix `A_pt`"
      ]
    },
    {
      "cell_type": "code",
      "metadata": {
        "colab": {
          "base_uri": "https://localhost:8080/"
        },
        "id": "abcvY4ynw87R",
        "outputId": "b890ec42-cfcc-4051-a3d6-25e1feb6e11f"
      },
      "source": [
        "A_pt_trace = torch.sqrt(torch.trace(torch.matmul(A_pt, A_pt.T)))\n",
        "A_pt_trace"
      ],
      "execution_count": 17,
      "outputs": [
        {
          "output_type": "execute_result",
          "data": {
            "text/plain": [
              "tensor(29.3769)"
            ]
          },
          "metadata": {},
          "execution_count": 17
        }
      ]
    },
    {
      "cell_type": "markdown",
      "metadata": {
        "id": "UJTgfVTvxN3H"
      },
      "source": [
        "Now we'll check Frobenius norm method and the trace method to show if whether equation equals!"
      ]
    },
    {
      "cell_type": "code",
      "metadata": {
        "colab": {
          "base_uri": "https://localhost:8080/"
        },
        "id": "5yIy3_d5xXCP",
        "outputId": "80980fae-3323-4e0c-fae8-9d91236c0fa3"
      },
      "source": [
        "A_pt_frob_norm == A_pt_trace"
      ],
      "execution_count": 18,
      "outputs": [
        {
          "output_type": "execute_result",
          "data": {
            "text/plain": [
              "tensor(True)"
            ]
          },
          "metadata": {},
          "execution_count": 18
        }
      ]
    },
    {
      "cell_type": "markdown",
      "metadata": {
        "id": "xQNj9MJaxfWt"
      },
      "source": [
        "**TensorFlow**"
      ]
    },
    {
      "cell_type": "code",
      "metadata": {
        "colab": {
          "base_uri": "https://localhost:8080/"
        },
        "id": "_erkt_1vxhFu",
        "outputId": "1464561b-a229-4bee-f737-69119175a9f3"
      },
      "source": [
        "A_tf = tf.Variable([[12, 2], [-14, 5], [2, -9.]])\n",
        "A_tf"
      ],
      "execution_count": 20,
      "outputs": [
        {
          "output_type": "execute_result",
          "data": {
            "text/plain": [
              "<tf.Variable 'Variable:0' shape=(3, 2) dtype=float32, numpy=\n",
              "array([[ 12.,   2.],\n",
              "       [-14.,   5.],\n",
              "       [  2.,  -9.]], dtype=float32)>"
            ]
          },
          "metadata": {},
          "execution_count": 20
        }
      ]
    },
    {
      "cell_type": "markdown",
      "metadata": {
        "id": "KvIMJlPhxq7n"
      },
      "source": [
        "Use Frobenius norm to calculate our matrix `A_tf`"
      ]
    },
    {
      "cell_type": "code",
      "metadata": {
        "colab": {
          "base_uri": "https://localhost:8080/"
        },
        "id": "WSC0nIpOxyyi",
        "outputId": "6c62aca4-511f-4d5c-e897-fa22f434a1a2"
      },
      "source": [
        "A_tf_frob_norm = tf.norm(A_tf)\n",
        "A_tf_frob_norm"
      ],
      "execution_count": 22,
      "outputs": [
        {
          "output_type": "execute_result",
          "data": {
            "text/plain": [
              "<tf.Tensor: shape=(), dtype=float32, numpy=21.307276>"
            ]
          },
          "metadata": {},
          "execution_count": 22
        }
      ]
    },
    {
      "cell_type": "markdown",
      "metadata": {
        "id": "XEtuStkZyJXH"
      },
      "source": [
        "Use trace method the calculate our matrix `A_tf`"
      ]
    },
    {
      "cell_type": "code",
      "metadata": {
        "colab": {
          "base_uri": "https://localhost:8080/"
        },
        "id": "5JForEBiySFU",
        "outputId": "284b337d-3cec-49b9-ec5c-1a1ec5b599f0"
      },
      "source": [
        "A_tf_trace = tf.sqrt(tf.linalg.trace(tf.matmul(A_tf, tf.transpose(A_tf))))\n",
        "A_tf_trace"
      ],
      "execution_count": 24,
      "outputs": [
        {
          "output_type": "execute_result",
          "data": {
            "text/plain": [
              "<tf.Tensor: shape=(), dtype=float32, numpy=21.307276>"
            ]
          },
          "metadata": {},
          "execution_count": 24
        }
      ]
    },
    {
      "cell_type": "markdown",
      "metadata": {
        "id": "vGpmOHoLykBx"
      },
      "source": [
        "Now we'll check Frobenius norm method and the trace method to show if whether equation equals!"
      ]
    },
    {
      "cell_type": "code",
      "metadata": {
        "colab": {
          "base_uri": "https://localhost:8080/"
        },
        "id": "TNhibzBQynry",
        "outputId": "ce46e821-d568-431a-e8ae-468918f0ef97"
      },
      "source": [
        "A_tf_frob_norm == A_tf_trace"
      ],
      "execution_count": 25,
      "outputs": [
        {
          "output_type": "execute_result",
          "data": {
            "text/plain": [
              "<tf.Tensor: shape=(), dtype=bool, numpy=True>"
            ]
          },
          "metadata": {},
          "execution_count": 25
        }
      ]
    }
  ]
}